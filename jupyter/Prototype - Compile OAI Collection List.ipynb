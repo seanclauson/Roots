{
 "cells": [
  {
   "cell_type": "markdown",
   "metadata": {},
   "source": [
    "This code will download a listing of OAI-PMH repositories, and then retrieve the full collection list from each repository.\n",
    "\n",
    "See the the following wiki for more information - [Historical Document Repositories](https://github.com/seanclauson/Roots/wiki/Historical-Document-Repositories)."
   ]
  },
  {
   "cell_type": "code",
   "execution_count": null,
   "metadata": {},
   "outputs": [],
   "source": [
    "!pip install xmltodict"
   ]
  },
  {
   "cell_type": "code",
   "execution_count": 85,
   "metadata": {},
   "outputs": [],
   "source": [
    "import urllib.request \n",
    "import json\n",
    "import xmltodict\n",
    "import ssl\n",
    "import datetime"
   ]
  },
  {
   "cell_type": "code",
   "execution_count": 101,
   "metadata": {},
   "outputs": [],
   "source": [
    "# URL to a JSON file listing all OAI repositories to be processed.\n",
    "repos_url = \"https://raw.githubusercontent.com/seanclauson/Roots/master/oai-repo-listing.json\"\n",
    "\n",
    "# Path to the outputted JSON file, containing all OAI repos and collections.\n",
    "output_file_name = \"json_output.json\""
   ]
  },
  {
   "cell_type": "code",
   "execution_count": 100,
   "metadata": {},
   "outputs": [],
   "source": [
    "def get_repositories_list(list_url):\n",
    "    \"\"\"\n",
    "    Retrieve list of OAI repositories and return the repos as a list.\n",
    "    \"\"\"\n",
    "    with urllib.request.urlopen(list_url) as url:\n",
    "        json_data = json.loads(url.read().decode())\n",
    "\n",
    "    return json_data\n",
    "\n",
    "\n",
    "# print(type(get_repositories_list(repos_url)))"
   ]
  },
  {
   "cell_type": "code",
   "execution_count": 96,
   "metadata": {
    "scrolled": false
   },
   "outputs": [],
   "source": [
    "# Grab XML of collections from OAI-PMH endpoint\n",
    "def get_repository_sets(oai_url):\n",
    "    \"\"\"\n",
    "    Given a repository's OAI-PMH endpoint, return all sets as a list. \n",
    "    \"\"\"\n",
    "    # Ignore SSL errors\n",
    "    ctx = ssl.create_default_context()\n",
    "    ctx.check_hostname = False\n",
    "    ctx.verify_mode = ssl.CERT_NONE\n",
    "    \n",
    "    with urllib.request.urlopen(oai_url, context = ctx) as file:\n",
    "        data = file.read()\n",
    "\n",
    "    data = xmltodict.parse(data)\n",
    "\n",
    "    repo_sets = []\n",
    "\n",
    "    for set in data[\"OAI-PMH\"][\"ListSets\"][\"set\"]:\n",
    "        this_set = {}\n",
    "        this_set[\"spec\"] = set[\"setSpec\"]\n",
    "        this_set[\"name\"] = set[\"setName\"]\n",
    "        try:\n",
    "            this_set[\"description\"] = set[\"setDescription\"][\"oai_dc:dc\"][\"dc:description\"]\n",
    "            this_set[\"description\"] = json.dumps(this_set[\"description\"])[1:-1]\n",
    "        except:\n",
    "            this_set[\"description\"] = \"\"\n",
    "\n",
    "        repo_sets.append(this_set)\n",
    "\n",
    "    return repo_sets\n",
    "           "
   ]
  },
  {
   "cell_type": "code",
   "execution_count": 102,
   "metadata": {},
   "outputs": [],
   "source": [
    "def get_all_repos_sets(url):\n",
    "    \"\"\"\n",
    "    Given a URL to a list of OAI repositories, return list of all repos and their sets.\n",
    "    \"\"\"\n",
    "    repos = get_repositories_list(url)\n",
    "#     repos = repos[:2] # slicing to reduce list while in dev/test\n",
    "\n",
    "    oai_repos = []\n",
    "\n",
    "    for repo in repos:\n",
    "        this_repo = {}\n",
    "        this_repo[\"oai-repo-id\"] = repo[\"id\"]\n",
    "        this_repo[\"browse-url-template\"] = repo[\"url-template-set-landing\"].replace(\"<url-home>\", repo[\"url-home\"])\n",
    "        oai_url = repo[\"url-template-oai-base\"].replace(\"<url-home>\", repo[\"url-home\"])\n",
    "        oai_url = oai_url + \"verb=ListSets\"\n",
    "\n",
    "        this_repo[\"sets\"] = get_repository_sets(oai_url)\n",
    "\n",
    "        oai_repos.append(this_repo)\n",
    "\n",
    "    return oai_repos\n"
   ]
  },
  {
   "cell_type": "code",
   "execution_count": null,
   "metadata": {},
   "outputs": [],
   "source": [
    "# Get all OAI repository collections.\n",
    "final_data = {}\n",
    "final_data[\"run-time\"] = datetime.datetime.now().replace(microsecond=0).isoformat()\n",
    "final_data[\"oai-repos\"] = get_all_repos_sets(repos_url)\n",
    "        \n",
    "# Output repository/collection information as JSON file.    \n",
    "with open(output_file_name, \"w\") as file:\n",
    "    json.dump(final_data, file)"
   ]
  }
 ],
 "metadata": {
  "kernelspec": {
   "display_name": "Python 3",
   "language": "python",
   "name": "python3"
  },
  "language_info": {
   "codemirror_mode": {
    "name": "ipython",
    "version": 3
   },
   "file_extension": ".py",
   "mimetype": "text/x-python",
   "name": "python",
   "nbconvert_exporter": "python",
   "pygments_lexer": "ipython3",
   "version": "3.7.3"
  }
 },
 "nbformat": 4,
 "nbformat_minor": 2
}
